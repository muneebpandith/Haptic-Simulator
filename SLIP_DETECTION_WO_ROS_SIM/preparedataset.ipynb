{
 "cells": [
  {
   "cell_type": "code",
   "execution_count": null,
   "metadata": {},
   "outputs": [],
   "source": []
  },
  {
   "cell_type": "code",
   "execution_count": 36,
   "metadata": {},
   "outputs": [],
   "source": [
    "import pandas as pd\n",
    "import numpy\n",
    "import csv"
   ]
  },
  {
   "cell_type": "code",
   "execution_count": 37,
   "metadata": {},
   "outputs": [],
   "source": [
    "def getdata(PATH):\n",
    "    return pd.DataFrame(pd.read_csv(PATH))"
   ]
  },
  {
   "cell_type": "code",
   "execution_count": 38,
   "metadata": {},
   "outputs": [],
   "source": [
    "def save_to_csv(FILENAME, DATASET_CSV, type_open='a'):    \n",
    "    with open(FILENAME, type_open, newline=\"\") as dataset_file:\n",
    "        writer = csv.writer(dataset_file, )\n",
    "        writer.writerow(DATASET_CSV)"
   ]
  },
  {
   "cell_type": "code",
   "execution_count": 39,
   "metadata": {},
   "outputs": [],
   "source": [
    "DATA = getdata(\"rawdataset.csv\")\n",
    "save_to_csv(\"prepared_dataset.csv\", [\"X1\",\"X2\",\"X3\",\"Label\"], 'w')\n",
    "#saving csv this way -> 209, 210, 211 - 1 i.e., three at a time"
   ]
  },
  {
   "cell_type": "code",
   "execution_count": 32,
   "metadata": {},
   "outputs": [
    {
     "data": {
      "text/html": [
       "<div>\n",
       "<style scoped>\n",
       "    .dataframe tbody tr th:only-of-type {\n",
       "        vertical-align: middle;\n",
       "    }\n",
       "\n",
       "    .dataframe tbody tr th {\n",
       "        vertical-align: top;\n",
       "    }\n",
       "\n",
       "    .dataframe thead th {\n",
       "        text-align: right;\n",
       "    }\n",
       "</style>\n",
       "<table border=\"1\" class=\"dataframe\">\n",
       "  <thead>\n",
       "    <tr style=\"text-align: right;\">\n",
       "      <th></th>\n",
       "      <th>Resultant_noslip</th>\n",
       "      <th>laplace_noslip</th>\n",
       "      <th>Resultant Slip</th>\n",
       "      <th>Laplace Slip</th>\n",
       "      <th>Label</th>\n",
       "    </tr>\n",
       "  </thead>\n",
       "  <tbody>\n",
       "    <tr>\n",
       "      <th>0</th>\n",
       "      <td>9.999782</td>\n",
       "      <td>0.0</td>\n",
       "      <td>9.999782</td>\n",
       "      <td>0.0</td>\n",
       "      <td>0</td>\n",
       "    </tr>\n",
       "    <tr>\n",
       "      <th>1</th>\n",
       "      <td>9.999782</td>\n",
       "      <td>0.0</td>\n",
       "      <td>9.999782</td>\n",
       "      <td>0.0</td>\n",
       "      <td>0</td>\n",
       "    </tr>\n",
       "    <tr>\n",
       "      <th>2</th>\n",
       "      <td>9.999782</td>\n",
       "      <td>0.0</td>\n",
       "      <td>9.999782</td>\n",
       "      <td>0.0</td>\n",
       "      <td>0</td>\n",
       "    </tr>\n",
       "    <tr>\n",
       "      <th>3</th>\n",
       "      <td>9.999782</td>\n",
       "      <td>0.0</td>\n",
       "      <td>9.999782</td>\n",
       "      <td>0.0</td>\n",
       "      <td>0</td>\n",
       "    </tr>\n",
       "    <tr>\n",
       "      <th>4</th>\n",
       "      <td>9.999782</td>\n",
       "      <td>0.0</td>\n",
       "      <td>9.999782</td>\n",
       "      <td>0.0</td>\n",
       "      <td>0</td>\n",
       "    </tr>\n",
       "  </tbody>\n",
       "</table>\n",
       "</div>"
      ],
      "text/plain": [
       "   Resultant_noslip  laplace_noslip  Resultant Slip  Laplace Slip  Label\n",
       "0          9.999782             0.0        9.999782           0.0      0\n",
       "1          9.999782             0.0        9.999782           0.0      0\n",
       "2          9.999782             0.0        9.999782           0.0      0\n",
       "3          9.999782             0.0        9.999782           0.0      0\n",
       "4          9.999782             0.0        9.999782           0.0      0"
      ]
     },
     "execution_count": 32,
     "metadata": {},
     "output_type": "execute_result"
    }
   ],
   "source": [
    "DATA.head()"
   ]
  },
  {
   "cell_type": "markdown",
   "metadata": {},
   "source": [
    "# Taking two units at a time and labeling 209 through 211 as slip onset (approx 200ms)"
   ]
  },
  {
   "cell_type": "code",
   "execution_count": 40,
   "metadata": {},
   "outputs": [],
   "source": [
    "INTERESTED_COL1 = DATA[\"Resultant Slip\"]\n",
    "INTERESTED_COL2 = DATA[\"Laplace Slip\"]\n",
    "LABEL = DATA[\"Label\"]\n",
    "\n",
    "for i in range(2,DATA.shape[0]):\n",
    "    if i == 210 or i == 211 :\n",
    "        datapoint = [INTERESTED_COL1[i-2],INTERESTED_COL1[i-1], INTERESTED_COL1[i], 1]\n",
    "    else:\n",
    "        datapoint = [INTERESTED_COL1[i-2],INTERESTED_COL1[i-1], INTERESTED_COL1[i], 0]\n",
    "    save_to_csv(\"prepared_dataset.csv\", datapoint, type_open='a')"
   ]
  },
  {
   "cell_type": "code",
   "execution_count": 17,
   "metadata": {},
   "outputs": [
    {
     "data": {
      "text/plain": [
       "0      0.000000e+00\n",
       "1      0.000000e+00\n",
       "2      0.000000e+00\n",
       "3      0.000000e+00\n",
       "4      0.000000e+00\n",
       "5      0.000000e+00\n",
       "6      0.000000e+00\n",
       "7      0.000000e+00\n",
       "8      0.000000e+00\n",
       "9      0.000000e+00\n",
       "10     0.000000e+00\n",
       "11     0.000000e+00\n",
       "12     0.000000e+00\n",
       "13     0.000000e+00\n",
       "14     0.000000e+00\n",
       "15     0.000000e+00\n",
       "16     0.000000e+00\n",
       "17     0.000000e+00\n",
       "18    -1.953990e-14\n",
       "19     0.000000e+00\n",
       "20     0.000000e+00\n",
       "21     0.000000e+00\n",
       "22     0.000000e+00\n",
       "23     0.000000e+00\n",
       "24     0.000000e+00\n",
       "25     0.000000e+00\n",
       "26     0.000000e+00\n",
       "27     0.000000e+00\n",
       "28     0.000000e+00\n",
       "29     0.000000e+00\n",
       "           ...     \n",
       "277   -1.637955e+00\n",
       "278   -1.787838e+00\n",
       "279   -2.571837e+00\n",
       "280   -2.271240e+00\n",
       "281   -1.803099e+00\n",
       "282   -9.779540e-01\n",
       "283    2.682688e+00\n",
       "284    2.449084e-01\n",
       "285    1.125659e-01\n",
       "286    5.533742e-01\n",
       "287    1.066797e-01\n",
       "288    9.997762e-01\n",
       "289   -4.361186e+00\n",
       "290    4.451618e-01\n",
       "291    9.266616e-01\n",
       "292    1.194108e-01\n",
       "293   -4.649018e-02\n",
       "294   -1.261510e-01\n",
       "295   -1.479568e-01\n",
       "296   -1.351835e-01\n",
       "297   -1.050795e-01\n",
       "298   -6.885070e-02\n",
       "299   -1.487724e-02\n",
       "300    1.060623e-01\n",
       "301   -3.147308e-02\n",
       "302    1.395549e-02\n",
       "303    4.190702e-02\n",
       "304    5.439718e-02\n",
       "305    3.366339e-01\n",
       "306   -7.604200e+00\n",
       "Name: Laplace Slip, Length: 307, dtype: float64"
      ]
     },
     "execution_count": 17,
     "metadata": {},
     "output_type": "execute_result"
    }
   ],
   "source": []
  }
 ],
 "metadata": {
  "kernelspec": {
   "display_name": "Python 3 (ipykernel)",
   "language": "python",
   "name": "python3"
  },
  "language_info": {
   "codemirror_mode": {
    "name": "ipython",
    "version": 3
   },
   "file_extension": ".py",
   "mimetype": "text/x-python",
   "name": "python",
   "nbconvert_exporter": "python",
   "pygments_lexer": "ipython3",
   "version": "3.7.9"
  }
 },
 "nbformat": 4,
 "nbformat_minor": 4
}
