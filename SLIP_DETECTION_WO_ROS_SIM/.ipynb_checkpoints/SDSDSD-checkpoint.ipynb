{
 "cells": [
  {
   "cell_type": "code",
   "execution_count": 72,
   "id": "5383e6e3",
   "metadata": {},
   "outputs": [],
   "source": [
    "import numpy as np\n",
    "import pybullet as p\n",
    "import time\n",
    "import pybullet_data\n",
    "import inspect\n",
    "#from sensor_msgs.msg import JointState\n",
    "import threading\n",
    "\n"
   ]
  },
  {
   "cell_type": "code",
   "execution_count": 6,
   "id": "20da2477",
   "metadata": {},
   "outputs": [],
   "source": [
    "clid = p.connect(p.SHARED_MEMORY)\n",
    "if (clid < 0):\n",
    "\tphysicsClient = p.connect(p.GUI)\n",
    "\n"
   ]
  },
  {
   "cell_type": "code",
   "execution_count": 7,
   "id": "a5ec88a1",
   "metadata": {},
   "outputs": [],
   "source": [
    "p.setAdditionalSearchPath(pybullet_data.getDataPath())  # optionally"
   ]
  },
  {
   "cell_type": "code",
   "execution_count": 8,
   "id": "e1577993",
   "metadata": {},
   "outputs": [],
   "source": [
    "def get_joint_states(robot, numJoints):\n",
    "    DATUM = []\n",
    "    p.stepSimulation()\n",
    "    joint_states = p.getJointStates(robot,range(numJoints),physicsClientId=physicsClient)   #0 to 20::: 4 are fixed\n",
    "    for j in joint_states:\n",
    "        for quadruple, k in enumerate(j):\n",
    "            if quadruple == 2:\n",
    "                for l in k:\n",
    "                    DATUM.append(l)\n",
    "            else:\n",
    "                DATUM.append(k)\n",
    "    return DATUM\n",
    "\n",
    "def get_joint_angles(robot, numJoints):\n",
    "    DATUM=[]\n",
    "    joint_states = p.getJointStates(robot,range(numJoints),physicsClientId=physicsClient)   #0 to 20::: 4 are fixed\n",
    "    for j in joint_states:\n",
    "        for quadruple, k in enumerate(j):\n",
    "            if quadruple ==1 : #Just the joint angle\n",
    "                DATUM.append(k)\n",
    "    return DATUM"
   ]
  },
  {
   "cell_type": "code",
   "execution_count": 9,
   "id": "1cf2cf6e",
   "metadata": {},
   "outputs": [],
   "source": [
    "planeId = p.loadURDF(\"plane.urdf\")"
   ]
  },
  {
   "cell_type": "code",
   "execution_count": 91,
   "id": "93c079ff",
   "metadata": {},
   "outputs": [],
   "source": [
    "# Loading KUKA 1 \n",
    "#robot = p.loadURDF(\"ll4ma_robots_description/urdf/allegro_right/allegro_hand_description_right.urdf\")\n",
    "kuka_allegro_hand_biotac = p.loadURDF(\"ll4ma_robots_description/robots/kuka-allegro-biotac.urdf\")\n",
    "for j in range(53):\n",
    "    p.enableJointForceTorqueSensor(kuka_allegro_hand_biotac, j, enableSensor=1)"
   ]
  },
  {
   "cell_type": "code",
   "execution_count": 11,
   "metadata": {
    "scrolled": true
   },
   "outputs": [],
   "source": [
    "p.setGravity(0,0,-9.8)"
   ]
  },
  {
   "cell_type": "code",
   "execution_count": 8,
   "metadata": {},
   "outputs": [],
   "source": [
    "#cube_big = p.loadURDF(\"./Haptics/haptics_examples/objects/cube_small.urdf\",[-1.03,-0.03, 0.1], globalScaling=2.5)"
   ]
  },
  {
   "cell_type": "code",
   "execution_count": 9,
   "id": "d376e554",
   "metadata": {},
   "outputs": [],
   "source": [
    "#p.getNumJoints(kuka_allegro_hand_biotac)"
   ]
  },
  {
   "cell_type": "code",
   "execution_count": 12,
   "metadata": {},
   "outputs": [],
   "source": [
    "p.setRealTimeSimulation(1)"
   ]
  },
  {
   "cell_type": "code",
   "execution_count": 83,
   "metadata": {},
   "outputs": [],
   "source": [
    "#reset\n",
    "p.changeDynamics(kuka_allegro_hand_biotac,-1, lateralFriction=0.5)\n",
    "p.changeDynamics(kuka_allegro_hand_biotac,-1, rollingFriction=0.5)\n",
    "joint_cmd = [0 for _ in range(53)]\n",
    "p.setJointMotorControlArray(kuka_allegro_hand_biotac, range(53), p.POSITION_CONTROL,  targetPositions=joint_cmd)"
   ]
  },
  {
   "cell_type": "code",
   "execution_count": 13,
   "metadata": {},
   "outputs": [],
   "source": [
    "#spawn cube\n",
    "\n",
    "\n",
    "cube_big = p.loadURDF(\"./Haptics/haptics_examples/objects/cube_small.urdf\",[-1.03,-0.03, 0.1], globalScaling=2.5)\n",
    "\n",
    "p.changeDynamics(cube_big,-1, lateralFriction=0.5)\n",
    "\n"
   ]
  },
  {
   "cell_type": "code",
   "execution_count": 84,
   "metadata": {},
   "outputs": [],
   "source": [
    "#PCIKUP (IN STEPS)\n",
    "#REACH (in steps)\n",
    "\n",
    "for i in range(90+1):\n",
    "    joint_cmd[3] = i *np.pi/180\n",
    "    p.setJointMotorControlArray(kuka_allegro_hand_biotac, range(53), p.POSITION_CONTROL,  targetPositions=joint_cmd)\n",
    "for i in range(17+1):\n",
    "    joint_cmd[5] = -i *np.pi/180\n",
    "    p.setJointMotorControlArray(kuka_allegro_hand_biotac, range(53), p.POSITION_CONTROL,  targetPositions=joint_cmd)\n",
    "for i in range(15+1):\n",
    "    joint_cmd[7] = -i *np.pi/180\n",
    "    p.setJointMotorControlArray(kuka_allegro_hand_biotac, range(53), p.POSITION_CONTROL,  targetPositions=joint_cmd)\n",
    "\n",
    "\n",
    "\n",
    "    "
   ]
  },
  {
   "cell_type": "code",
   "execution_count": null,
   "metadata": {},
   "outputs": [],
   "source": []
  },
  {
   "cell_type": "code",
   "execution_count": 85,
   "metadata": {},
   "outputs": [],
   "source": [
    "#joint_cmd = [0 for j in range(53)]\n",
    "\n",
    "#THUMB\n",
    "joint_cmd[43]= 90 * np.pi/180\n",
    "joint_cmd[45]= 5 * np.pi/180\n",
    "joint_cmd[46]= 15 * np.pi/180\n",
    "\n",
    "\n",
    "#INDEX_UNGERS\n",
    "joint_cmd[17]= 40 * np.pi/180    \n",
    "joint_cmd[18]= 40 * np.pi/180    \n",
    "joint_cmd[19]= 20 * np.pi/180  \n",
    "\n",
    "# MIDDLE_FINGER\n",
    "joint_cmd[26]= 40 * np.pi/180\n",
    "joint_cmd[27]= 40 * np.pi/180\n",
    "joint_cmd[28]= 20 * np.pi/180\n",
    "\n",
    "\n",
    "# PINKY FINGER\n",
    "joint_cmd[35]= 40 * np.pi/180\n",
    "joint_cmd[36]= 40 * np.pi/180\n",
    "joint_cmd[37]= 20 * np.pi/180\n",
    "\n",
    "p.setJointMotorControlArray(kuka_allegro_hand_biotac, range(53), p.POSITION_CONTROL,  targetPositions=joint_cmd)\n",
    "\n"
   ]
  },
  {
   "cell_type": "code",
   "execution_count": 86,
   "metadata": {},
   "outputs": [
    {
     "name": "stdout",
     "output_type": "stream",
     "text": [
      "[0.0, 0.0, -3.522503621487122e-06, -1.4648313388584966e-05, 1.2375229277203359e-05, -3.6359680768149882e-06, -1.5162838080350766e-05, -0.00040263378500066116, -0.00017723410097812654, 0.0, 0.0, 0.0, 0.0, 0.0, 0.0, 0.0, 0.00020290369416280617, -0.012918207041736227, -0.0006077330285907891, -0.04110779809827996, 0.0, 0.0, 0.0, 0.0, 0.0, 0.00010273212464235494, 0.010353645944913155, -0.0929458341830163, 4.688778205657468e-05, 0.0, 0.0, 0.0, 0.0, 0.0, 8.027819728417818e-12, 4.3396978821139826e-06, -0.0019807195206640133, -0.0017213609365554217, 0.0, 0.0, 0.0, 0.0, 0.0, -7.347150531189766e-05, 4.893316230724764e-05, 0.0005122565251460751, -0.0017955650355699904, 0.0, 0.0, 0.0, 0.0, 0.0, 0.0]\n"
     ]
    }
   ],
   "source": [
    "print(get_joint_angles(kuka_allegro_hand_biotac,53))"
   ]
  },
  {
   "cell_type": "code",
   "execution_count": 90,
   "metadata": {},
   "outputs": [
    {
     "data": {
      "text/plain": [
       "'    \\nfor i in range(15+1):\\n    joint_cmd[7] = -i *np.pi/180\\n    p.setJointMotorControlArray(kuka_allegro_hand_biotac, range(53), p.POSITION_CONTROL,  targetPositions=joint_cmd)\\n    \\nfor i in range(15+1):\\n    joint_cmd[5] = -i *np.pi/180\\n    p.setJointMotorControlArray(kuka_allegro_hand_biotac, range(53), p.POSITION_CONTROL,  targetPositions=joint_cmd)\\n\\nfor i in range(90+1):\\n    joint_cmd[3] = i *np.pi/180\\n    p.setJointMotorControlArray(kuka_allegro_hand_biotac, range(53), p.POSITION_CONTROL,  targetPositions=joint_cmd)\\n\\n'"
      ]
     },
     "execution_count": 90,
     "metadata": {},
     "output_type": "execute_result"
    }
   ],
   "source": [
    "# PICKUP\n",
    "angles = get_joint_angles(kuka_allegro_hand_biotac,53)\n",
    "\n",
    "T = 100\n",
    "delta = 0.01\n",
    "t=0\n",
    "\n",
    "while t < 10:\n",
    "    joint_cmd[7] = joint_cmd[7] - delta\n",
    "    joint_cmd[5] = joint_cmd[5] + delta\n",
    "    \n",
    "    p.setJointMotorControlArray(kuka_allegro_hand_biotac, range(53), p.POSITION_CONTROL,  targetPositions=joint_cmd)\n",
    "    t += 1\n",
    "    time.sleep(1/100.)\n",
    "\n",
    "    \n",
    "\"\"\"    \n",
    "for i in range(15+1):\n",
    "    joint_cmd[7] = -i *np.pi/180\n",
    "    p.setJointMotorControlArray(kuka_allegro_hand_biotac, range(53), p.POSITION_CONTROL,  targetPositions=joint_cmd)\n",
    "    \n",
    "for i in range(15+1):\n",
    "    joint_cmd[5] = -i *np.pi/180\n",
    "    p.setJointMotorControlArray(kuka_allegro_hand_biotac, range(53), p.POSITION_CONTROL,  targetPositions=joint_cmd)\n",
    "\n",
    "for i in range(90+1):\n",
    "    joint_cmd[3] = i *np.pi/180\n",
    "    p.setJointMotorControlArray(kuka_allegro_hand_biotac, range(53), p.POSITION_CONTROL,  targetPositions=joint_cmd)\n",
    "\n",
    "\"\"\""
   ]
  },
  {
   "cell_type": "code",
   "execution_count": null,
   "metadata": {},
   "outputs": [],
   "source": [
    "#REFERENCE TO JOINTS INFORMATION\n",
    "#2 is base of kuka\n",
    "#8 is wrist (end of kuka)\n",
    "#9 is nothing upto 15\n",
    "\n",
    "#16- index\n",
    "#17- index\n",
    "#18- index\n",
    "#19- index\n",
    "#20- index\n",
    "#21 to 24 are biotacs for index finger\n",
    "\n",
    "\n",
    "#25 - middle 0\n",
    "#26 - middle 1\n",
    "#27 - middle 2\n",
    "#28 - middle 3\n",
    "#29 - middle 4\n",
    "#30 to 33 are biotacs for middle finger\n",
    "\n",
    "#34 - pinky 0\n",
    "#35 - pinky 1\n",
    "#36 - middle 2\n",
    "#37 - middle 3\n",
    "#38 - middle 4\n",
    "#39 to 42 are biotacs for middle finger\n",
    "\n",
    "\n",
    "#43 - thumb 0\n",
    "#44 - thumb 1\n",
    "#45 - thumb 2\n",
    "#46 - thumb 3\n",
    "#47 - thumb 4\n",
    "#48 - 51 are biotacs for middle finger\n",
    "\n",
    "\n",
    "#52 and 53 are useless\n",
    "\n",
    "#for j in range(17,19):\n",
    "#    joint_cmd [j] = 145*np.pi/180\n"
   ]
  },
  {
   "cell_type": "code",
   "execution_count": 3,
   "metadata": {},
   "outputs": [
    {
     "name": "stdout",
     "output_type": "stream",
     "text": [
      "16\n",
      "15\n",
      "14\n",
      "13\n",
      "12\n",
      "11\n",
      "10\n",
      "9\n",
      "8\n",
      "7\n",
      "6\n",
      "5\n",
      "4\n",
      "3\n",
      "2\n",
      "1\n"
     ]
    }
   ],
   "source": [
    "for x in range(16,0,-1):\n",
    "    print(x)"
   ]
  }
 ],
 "metadata": {
  "kernelspec": {
   "display_name": "Python 3 (ipykernel)",
   "language": "python",
   "name": "python3"
  },
  "language_info": {
   "codemirror_mode": {
    "name": "ipython",
    "version": 3
   },
   "file_extension": ".py",
   "mimetype": "text/x-python",
   "name": "python",
   "nbconvert_exporter": "python",
   "pygments_lexer": "ipython3",
   "version": "3.7.9"
  }
 },
 "nbformat": 4,
 "nbformat_minor": 5
}
