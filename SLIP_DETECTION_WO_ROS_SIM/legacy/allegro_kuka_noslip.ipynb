{
 "cells": [
  {
   "cell_type": "code",
   "execution_count": 1,
   "metadata": {},
   "outputs": [],
   "source": [
    "import numpy as np\n",
    "import pybullet as p\n",
    "import time\n",
    "import pybullet_data\n",
    "import inspect\n",
    "#from sensor_msgs.msg import JointState\n",
    "import threading\n",
    "import datetime\n",
    "import csv\n"
   ]
  },
  {
   "cell_type": "code",
   "execution_count": 3,
   "metadata": {},
   "outputs": [],
   "source": [
    "FILENAME = 'TRACE_NOSLIP.csv'\n",
    "TRACE_HEADER = ['Event','Timestamp','J0_position', 'J0_velocity', 'J0_Fx', 'J0_Fy', 'J0_Fz', 'J0_Mx', 'J0_My', 'J0_Mz', 'J0_torque', 'J1_position', 'J1_velocity', 'J1_Fx', 'J1_Fy', 'J1_Fz', 'J1_Mx', 'J1_My', 'J1_Mz', 'J1_torque', 'J2_position', 'J2_velocity', 'J2_Fx', 'J2_Fy', 'J2_Fz', 'J2_Mx', 'J2_My', 'J2_Mz', 'J2_torque', 'J3_position', 'J3_velocity', 'J3_Fx', 'J3_Fy', 'J3_Fz', 'J3_Mx', 'J3_My', 'J3_Mz', 'J3_torque', 'J4_position', 'J4_velocity', 'J4_Fx', 'J4_Fy', 'J4_Fz', 'J4_Mx', 'J4_My', 'J4_Mz', 'J4_torque', 'J5_position', 'J5_velocity', 'J5_Fx', 'J5_Fy', 'J5_Fz', 'J5_Mx', 'J5_My', 'J5_Mz', 'J5_torque', 'J6_position', 'J6_velocity', 'J6_Fx', 'J6_Fy', 'J6_Fz', 'J6_Mx', 'J6_My', 'J6_Mz', 'J6_torque', 'J7_position', 'J7_velocity', 'J7_Fx', 'J7_Fy', 'J7_Fz', 'J7_Mx', 'J7_My', 'J7_Mz', 'J7_torque', 'J8_position', 'J8_velocity', 'J8_Fx', 'J8_Fy', 'J8_Fz', 'J8_Mx', 'J8_My', 'J8_Mz', 'J8_torque', 'J9_position', 'J9_velocity', 'J9_Fx', 'J9_Fy', 'J9_Fz', 'J9_Mx', 'J9_My', 'J9_Mz', 'J9_torque', 'J10_position', 'J10_velocity', 'J10_Fx', 'J10_Fy', 'J10_Fz', 'J10_Mx', 'J10_My', 'J10_Mz', 'J10_torque', 'J11_position', 'J11_velocity', 'J11_Fx', 'J11_Fy', 'J11_Fz', 'J11_Mx', 'J11_My', 'J11_Mz', 'J11_torque', 'J12_position', 'J12_velocity', 'J12_Fx', 'J12_Fy', 'J12_Fz', 'J12_Mx', 'J12_My', 'J12_Mz', 'J12_torque', 'J13_position', 'J13_velocity', 'J13_Fx', 'J13_Fy', 'J13_Fz', 'J13_Mx', 'J13_My', 'J13_Mz', 'J13_torque', 'J14_position', 'J14_velocity', 'J14_Fx', 'J14_Fy', 'J14_Fz', 'J14_Mx', 'J14_My', 'J14_Mz', 'J14_torque', 'J15_position', 'J15_velocity', 'J15_Fx', 'J15_Fy', 'J15_Fz', 'J15_Mx', 'J15_My', 'J15_Mz', 'J15_torque', 'J16_position', 'J16_velocity', 'J16_Fx', 'J16_Fy', 'J16_Fz', 'J16_Mx', 'J16_My', 'J16_Mz', 'J16_torque', 'J17_position', 'J17_velocity', 'J17_Fx', 'J17_Fy', 'J17_Fz', 'J17_Mx', 'J17_My', 'J17_Mz', 'J17_torque', 'J18_position', 'J18_velocity', 'J18_Fx', 'J18_Fy', 'J18_Fz', 'J18_Mx', 'J18_My', 'J18_Mz', 'J18_torque', 'J19_position', 'J19_velocity', 'J19_Fx', 'J19_Fy', 'J19_Fz', 'J19_Mx', 'J19_My', 'J19_Mz', 'J19_torque' ]\n",
    "def save_to_csv(FILENAME, TRACE_CSV, type_open='a'):    \n",
    "    with open(FILENAME,type_open,newline=\"\") as trace_file:\n",
    "        writer = csv.writer(trace_file, )\n",
    "        writer.writerow(TRACE_CSV)\n",
    "save_to_csv(FILENAME, TRACE_HEADER, 'w')"
   ]
  },
  {
   "cell_type": "code",
   "execution_count": null,
   "metadata": {},
   "outputs": [],
   "source": []
  },
  {
   "cell_type": "code",
   "execution_count": 4,
   "metadata": {},
   "outputs": [],
   "source": [
    "clid = p.connect(p.SHARED_MEMORY)\n",
    "if (clid < 0):\n",
    "\tphysicsClient = p.connect(p.GUI)"
   ]
  },
  {
   "cell_type": "code",
   "execution_count": 5,
   "metadata": {},
   "outputs": [],
   "source": [
    "p.setAdditionalSearchPath(pybullet_data.getDataPath())  # optionally"
   ]
  },
  {
   "cell_type": "code",
   "execution_count": 6,
   "metadata": {},
   "outputs": [],
   "source": [
    "def get_joint_states(robot, numJoints):\n",
    "    DATUM = []\n",
    "    joint_states = p.getJointStates(robot,range(numJoints),physicsClientId=physicsClient)   #0 to 20::: 4 are fixed\n",
    "    for j in joint_states:\n",
    "        for quadruple, k in enumerate(j):\n",
    "            if quadruple == 2:\n",
    "                for l in k:\n",
    "                    DATUM.append(l)\n",
    "            else:\n",
    "                DATUM.append(k)\n",
    "    return DATUM\n",
    "\n",
    "def get_joint_angles(robot, numJoints):\n",
    "    DATUM=[]\n",
    "    joint_states = p.getJointStates(robot,range(numJoints),physicsClientId=physicsClient)   #0 to 20::: 4 are fixed\n",
    "    for j in joint_states:\n",
    "        for quadruple, k in enumerate(j):\n",
    "            if quadruple ==1 : #Just the joint angle\n",
    "                DATUM.append(k)\n",
    "    return DATUM\n",
    "\n",
    "def get_joint_states_hand_only(robot, numJoints):\n",
    "    DATUM = []\n",
    "    joint_states = p.getJointStates(robot,range(numJoints),physicsClientId=physicsClient)   #0 to 20::: 4 are fixed\n",
    "    for jno, j in enumerate(joint_states):\n",
    "        if jno in [16,17,18,19,20, 25,26,27,28,29, 34,35,36,37,38, 43,44,45,46,47]:\n",
    "            #print(jno)\n",
    "            for quadruple, k in enumerate(j):\n",
    "                if quadruple == 2:\n",
    "                    for l in k:\n",
    "                        DATUM.append(l)\n",
    "                else:\n",
    "                    DATUM.append(k)\n",
    "    return DATUM"
   ]
  },
  {
   "cell_type": "code",
   "execution_count": 7,
   "metadata": {},
   "outputs": [],
   "source": [
    "planeId = p.loadURDF(\"plane.urdf\")"
   ]
  },
  {
   "cell_type": "code",
   "execution_count": 8,
   "metadata": {},
   "outputs": [],
   "source": [
    "# Loading KUKA 1 \n",
    "#robot = p.loadURDF(\"ll4ma_robots_description/urdf/allegro_right/allegro_hand_description_right.urdf\")\n",
    "kuka_allegro_hand_biotac = p.loadURDF(\"ll4ma_robots_description/robots/kuka-allegro-biotac.urdf\")\n",
    "for j in range(53):\n",
    "    p.enableJointForceTorqueSensor(kuka_allegro_hand_biotac, j, enableSensor=1)"
   ]
  },
  {
   "cell_type": "code",
   "execution_count": null,
   "metadata": {
    "scrolled": true
   },
   "outputs": [],
   "source": []
  },
  {
   "cell_type": "code",
   "execution_count": 9,
   "metadata": {},
   "outputs": [],
   "source": [
    "#cube_big = p.loadURDF(\"./Haptics/haptics_examples/objects/cube_small.urdf\",[-1.03,-0.03, 0.1], globalScaling=2.5)"
   ]
  },
  {
   "cell_type": "code",
   "execution_count": 10,
   "metadata": {},
   "outputs": [],
   "source": [
    "numJoints = p.getNumJoints(kuka_allegro_hand_biotac)"
   ]
  },
  {
   "cell_type": "code",
   "execution_count": 11,
   "metadata": {},
   "outputs": [],
   "source": [
    "p.setRealTimeSimulation(1)"
   ]
  },
  {
   "cell_type": "markdown",
   "metadata": {},
   "source": [
    "# RUN AGAIN FROM HERE"
   ]
  },
  {
   "cell_type": "code",
   "execution_count": 12,
   "metadata": {},
   "outputs": [],
   "source": [
    "from datetime import datetime\n",
    "p.setGravity(0,0,-9.8)"
   ]
  },
  {
   "cell_type": "code",
   "execution_count": 13,
   "metadata": {},
   "outputs": [],
   "source": [
    "#save_to_csv(FILENAME,['START',datetime.now().time() ]+get_joint_states_hand_only( kuka_allegro_hand_biotac, numJoints),'a')"
   ]
  },
  {
   "cell_type": "code",
   "execution_count": 14,
   "metadata": {},
   "outputs": [],
   "source": [
    "#for _ in range(200):\n",
    "#    save_to_csv(FILENAME,['STEADY',datetime.now().time() ]+get_joint_states_hand_only( kuka_allegro_hand_biotac, numJoints),'a')"
   ]
  },
  {
   "cell_type": "code",
   "execution_count": null,
   "metadata": {},
   "outputs": [],
   "source": []
  },
  {
   "cell_type": "code",
   "execution_count": null,
   "metadata": {},
   "outputs": [],
   "source": []
  },
  {
   "cell_type": "code",
   "execution_count": 15,
   "metadata": {},
   "outputs": [],
   "source": [
    "#reset\n",
    "p.changeDynamics(kuka_allegro_hand_biotac,-1, lateralFriction=0.5)\n",
    "p.changeDynamics(kuka_allegro_hand_biotac,-1, rollingFriction=0.5)\n",
    "joint_cmd = [0 for _ in range(53)]\n",
    "p.setJointMotorControlArray(kuka_allegro_hand_biotac, range(53), p.POSITION_CONTROL,  targetPositions=joint_cmd)\n",
    "#RECORD 1ST FROM HERE\n",
    "time.sleep(5)\n",
    "save_to_csv(FILENAME,['RESET_POSITION',datetime.now().time() ]+get_joint_states_hand_only( kuka_allegro_hand_biotac, numJoints),'a')"
   ]
  },
  {
   "cell_type": "code",
   "execution_count": 16,
   "metadata": {},
   "outputs": [],
   "source": [
    "time.sleep(5)\n",
    "for _ in range(100):\n",
    "    save_to_csv(FILENAME,['STEADY_AFTER_ACHIEVING_RESET_POSITION',datetime.now().time() ]+get_joint_states_hand_only( kuka_allegro_hand_biotac, numJoints),'a')"
   ]
  },
  {
   "cell_type": "code",
   "execution_count": 17,
   "metadata": {},
   "outputs": [],
   "source": [
    "#spawn cube\n",
    "cube_big = p.loadURDF(\"./Haptics/haptics_examples/objects/cube_small.urdf\",[-1.03,-0.03, 0.1], globalScaling=2.5)\n",
    "p.changeDynamics(cube_big,-1, lateralFriction=0.5)"
   ]
  },
  {
   "cell_type": "markdown",
   "metadata": {},
   "source": [
    "### Start Reaching to the cube"
   ]
  },
  {
   "cell_type": "code",
   "execution_count": 18,
   "metadata": {},
   "outputs": [],
   "source": [
    "#PCIKUP (IN STEPS)\n",
    "#REACH (in steps)\n",
    "time.sleep(2)\n",
    "\n",
    "save_to_csv(FILENAME,['INITIALIZE_REACHING',datetime.now().time() ]+get_joint_states_hand_only( kuka_allegro_hand_biotac, numJoints),'a')\n",
    "\n",
    "for i in range(15+1):\n",
    "    joint_cmd[5] = -i *np.pi/180\n",
    "    p.setJointMotorControlArray(kuka_allegro_hand_biotac, range(53), p.POSITION_CONTROL,  targetPositions=joint_cmd)\n",
    "    time.sleep(1/20.)\n",
    "    save_to_csv(FILENAME,['REACHING_IN_PROGRESS',datetime.now().time() ]+get_joint_states_hand_only( kuka_allegro_hand_biotac, numJoints),'a')\n",
    "\n",
    "for i in range(12+1):\n",
    "    joint_cmd[7] = -i *np.pi/180\n",
    "    p.setJointMotorControlArray(kuka_allegro_hand_biotac, range(53), p.POSITION_CONTROL,  targetPositions=joint_cmd)\n",
    "    time.sleep(1/20.)\n",
    "    save_to_csv(FILENAME,['REACHING_IN_PROGRESS',datetime.now().time() ]+get_joint_states_hand_only( kuka_allegro_hand_biotac, numJoints),'a')\n",
    "\n",
    "\n",
    "for i in range(90+1):\n",
    "    joint_cmd[3] = i *np.pi/180\n",
    "    p.setJointMotorControlArray(kuka_allegro_hand_biotac, range(53), p.POSITION_CONTROL,  targetPositions=joint_cmd)\n",
    "    time.sleep(1/20.)\n",
    "    save_to_csv(FILENAME,['REACHING_IN_PROGRESS',datetime.now().time() ]+get_joint_states_hand_only( kuka_allegro_hand_biotac, numJoints),'a')\n",
    "\n",
    "    \n",
    "save_to_csv(FILENAME,['FINISHED_REACHING',datetime.now().time() ]+get_joint_states_hand_only( kuka_allegro_hand_biotac, numJoints),'a')\n",
    "time.sleep(6)\n",
    "    "
   ]
  },
  {
   "cell_type": "code",
   "execution_count": null,
   "metadata": {},
   "outputs": [],
   "source": []
  },
  {
   "cell_type": "code",
   "execution_count": 19,
   "metadata": {},
   "outputs": [],
   "source": [
    "#joint_cmd = [0 for j in range(53)]\n",
    "\n",
    "save_to_csv(FILENAME,['INITIALIZE_GRASPING',datetime.now().time() ]+get_joint_states_hand_only( kuka_allegro_hand_biotac, numJoints),'a')\n",
    "\n",
    "#THUMB\n",
    "joint_cmd[43]= 90 * np.pi/180\n",
    "joint_cmd[45]= 5 * np.pi/180\n",
    "joint_cmd[46]= 10 * np.pi/180\n",
    "\n",
    "#INDEX_UNGERS\n",
    "joint_cmd[17]= 40 * np.pi/180    \n",
    "joint_cmd[18]= 40 * np.pi/180    \n",
    "joint_cmd[19]= 20 * np.pi/180 \n",
    "#joint_cmd[19]= 5 * np.pi/180 \n",
    "\n",
    "\n",
    "# MIDDLE_FINGER\n",
    "joint_cmd[26]= 40 * np.pi/180\n",
    "joint_cmd[27]= 40 * np.pi/180\n",
    "joint_cmd[28]= 20 * np.pi/180 \n",
    "#joint_cmd[28]= 5 * np.pi/180\n",
    "\n",
    "\n",
    "\n",
    "# PINKY FINGER\n",
    "joint_cmd[35]= 40 * np.pi/180\n",
    "joint_cmd[36]= 40 * np.pi/180\n",
    "joint_cmd[37]= 20 * np.pi/180\n",
    "\n",
    "p.setJointMotorControlArray(kuka_allegro_hand_biotac, range(53), p.POSITION_CONTROL,  targetPositions=joint_cmd)\n",
    "time.sleep(1/20.)\n",
    "save_to_csv(FILENAME,['FINISHED_GRASPING',datetime.now().time() ]+get_joint_states_hand_only( kuka_allegro_hand_biotac, numJoints),'a')\n",
    "time.sleep(5)\n"
   ]
  },
  {
   "cell_type": "code",
   "execution_count": 20,
   "metadata": {},
   "outputs": [],
   "source": [
    "#print(get_joint_angles(kuka_allegro_hand_biotac,53))"
   ]
  },
  {
   "cell_type": "code",
   "execution_count": 21,
   "metadata": {},
   "outputs": [
    {
     "data": {
      "text/plain": [
       "'    \\nfor i in range(15+1):\\n    joint_cmd[7] = -i *np.pi/180\\n    p.setJointMotorControlArray(kuka_allegro_hand_biotac, range(53), p.POSITION_CONTROL,  targetPositions=joint_cmd)\\n    \\nfor i in range(15+1):\\n    joint_cmd[5] = -i *np.pi/180\\n    p.setJointMotorControlArray(kuka_allegro_hand_biotac, range(53), p.POSITION_CONTROL,  targetPositions=joint_cmd)\\n\\nfor i in range(90+1):\\n    joint_cmd[3] = i *np.pi/180\\n    p.setJointMotorControlArray(kuka_allegro_hand_biotac, range(53), p.POSITION_CONTROL,  targetPositions=joint_cmd)\\n\\n'"
      ]
     },
     "execution_count": 21,
     "metadata": {},
     "output_type": "execute_result"
    }
   ],
   "source": [
    "# PICKUP\n",
    "angles = get_joint_angles(kuka_allegro_hand_biotac,53)\n",
    "\n",
    "T = 100\n",
    "delta = 0.01\n",
    "t=0\n",
    "save_to_csv(FILENAME,['INITIALIZE_PICKUP',datetime.now().time() ]+get_joint_states_hand_only( kuka_allegro_hand_biotac, numJoints),'a')\n",
    "grav = 0\n",
    "while t < T:\n",
    "    joint_cmd[3] = joint_cmd[3] - delta\n",
    "    joint_cmd[5] = joint_cmd[5] - delta\n",
    "    #joint_cmd[7] = joint_cmd[7] + delta\n",
    "    #joint_cmd[46] = joint_cmd [46] - 0.1* delta\n",
    "    #joint_cmd[19] = joint_cmd[19] - 0.099*delta\n",
    "    #joint_cmd[28] = joint_cmd[19] - 0.099*delta\n",
    "    p.setJointMotorControlArray(kuka_allegro_hand_biotac, range(53), p.POSITION_CONTROL,  targetPositions=joint_cmd)\n",
    "    time.sleep(1/100.)\n",
    "    save_to_csv(FILENAME,['PICKUP_IN_PROGRESS',datetime.now().time() ]+get_joint_states_hand_only( kuka_allegro_hand_biotac, numJoints),'a')\n",
    "    t += 1\n",
    "    \n",
    "\n",
    "\n",
    "save_to_csv(FILENAME,['END',datetime.now().time() ]+get_joint_states_hand_only( kuka_allegro_hand_biotac, numJoints),'a')\n",
    "\n",
    "    \n",
    "\"\"\"    \n",
    "for i in range(15+1):\n",
    "    joint_cmd[7] = -i *np.pi/180\n",
    "    p.setJointMotorControlArray(kuka_allegro_hand_biotac, range(53), p.POSITION_CONTROL,  targetPositions=joint_cmd)\n",
    "    \n",
    "for i in range(15+1):\n",
    "    joint_cmd[5] = -i *np.pi/180\n",
    "    p.setJointMotorControlArray(kuka_allegro_hand_biotac, range(53), p.POSITION_CONTROL,  targetPositions=joint_cmd)\n",
    "\n",
    "for i in range(90+1):\n",
    "    joint_cmd[3] = i *np.pi/180\n",
    "    p.setJointMotorControlArray(kuka_allegro_hand_biotac, range(53), p.POSITION_CONTROL,  targetPositions=joint_cmd)\n",
    "\n",
    "\"\"\""
   ]
  },
  {
   "cell_type": "code",
   "execution_count": 22,
   "metadata": {},
   "outputs": [],
   "source": [
    "#REFERENCE TO JOINTS INFORMATION\n",
    "#2 is base of kuka\n",
    "#8 is wrist (end of kuka)\n",
    "#9 is nothing upto 15\n",
    "\n",
    "#16- index\n",
    "#17- index\n",
    "#18- index\n",
    "#19- index\n",
    "#20- index\n",
    "#21 to 24 are biotacs for index finger\n",
    "\n",
    "\n",
    "#25 - middle 0\n",
    "#26 - middle 1\n",
    "#27 - middle 2\n",
    "#28 - middle 3\n",
    "#29 - middle 4\n",
    "#30 to 33 are biotacs for middle finger\n",
    "\n",
    "#34 - pinky 0\n",
    "#35 - pinky 1\n",
    "#36 - middle 2\n",
    "#37 - middle 3\n",
    "#38 - middle 4\n",
    "#39 to 42 are biotacs for middle finger\n",
    "\n",
    "\n",
    "#43 - thumb 0\n",
    "#44 - thumb 1\n",
    "#45 - thumb 2\n",
    "#46 - thumb 3\n",
    "#47 - thumb 4\n",
    "#48 - 51 are biotacs for middle finger\n",
    "\n",
    "\n",
    "#52 and 53 are useless\n",
    "\n",
    "#for j in range(17,19):\n",
    "#    joint_cmd [j] = 145*np.pi/180\n"
   ]
  },
  {
   "cell_type": "code",
   "execution_count": 233,
   "metadata": {},
   "outputs": [],
   "source": []
  },
  {
   "cell_type": "code",
   "execution_count": 335,
   "metadata": {},
   "outputs": [
    {
     "name": "stdout",
     "output_type": "stream",
     "text": [
      "0\n"
     ]
    }
   ],
   "source": [
    "print(grav)"
   ]
  },
  {
   "cell_type": "code",
   "execution_count": null,
   "metadata": {},
   "outputs": [],
   "source": []
  }
 ],
 "metadata": {
  "kernelspec": {
   "display_name": "Python 3 (ipykernel)",
   "language": "python",
   "name": "python3"
  },
  "language_info": {
   "codemirror_mode": {
    "name": "ipython",
    "version": 3
   },
   "file_extension": ".py",
   "mimetype": "text/x-python",
   "name": "python",
   "nbconvert_exporter": "python",
   "pygments_lexer": "ipython3",
   "version": "3.7.9"
  }
 },
 "nbformat": 4,
 "nbformat_minor": 5
}
