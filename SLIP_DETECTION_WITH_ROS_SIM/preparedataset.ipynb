{
 "cells": [
  {
   "cell_type": "code",
   "execution_count": null,
   "metadata": {},
   "outputs": [],
   "source": []
  },
  {
   "cell_type": "code",
   "execution_count": 36,
   "metadata": {},
   "outputs": [],
   "source": [
    "import pandas as pd\n",
    "import numpy\n",
    "import csv"
   ]
  },
  {
   "cell_type": "code",
   "execution_count": 37,
   "metadata": {},
   "outputs": [],
   "source": [
    "def getdata(PATH):\n",
    "    return pd.DataFrame(pd.read_csv(PATH))"
   ]
  },
  {
   "cell_type": "code",
   "execution_count": 38,
   "metadata": {},
   "outputs": [],
   "source": [
    "def save_to_csv(FILENAME, DATASET_CSV, type_open='a'):    \n",
    "    with open(FILENAME, type_open, newline=\"\") as dataset_file:\n",
    "        writer = csv.writer(dataset_file, )\n",
    "        writer.writerow(DATASET_CSV)"
   ]
  },
  {
   "cell_type": "code",
   "execution_count": 39,
   "metadata": {},
   "outputs": [],
   "source": [
    "DATA = getdata(\"rawdataset.csv\")\n",
    "save_to_csv(\"prepared_dataset.csv\", [\"X1\",\"X2\",\"X3\",\"Label\"], 'w')\n",
    "#saving csv this way -> 209, 210, 211 - 1 i.e., three at a time"
   ]
  },
  {
   "cell_type": "code",
   "execution_count": 32,
   "metadata": {},
   "outputs": [
    {
     "data": {
      "text/html": [
       "<div>\n",
       "<style scoped>\n",
       "    .dataframe tbody tr th:only-of-type {\n",
       "        vertical-align: middle;\n",
       "    }\n",
       "\n",
       "    .dataframe tbody tr th {\n",
       "        vertical-align: top;\n",
       "    }\n",
       "\n",
       "    .dataframe thead th {\n",
       "        text-align: right;\n",
       "    }\n",
       "</style>\n",
       "<table border=\"1\" class=\"dataframe\">\n",
       "  <thead>\n",
       "    <tr style=\"text-align: right;\">\n",
       "      <th></th>\n",
       "      <th>Resultant_noslip</th>\n",
       "      <th>laplace_noslip</th>\n",
       "      <th>Resultant Slip</th>\n",
       "      <th>Laplace Slip</th>\n",
       "      <th>Label</th>\n",
       "    </tr>\n",
       "  </thead>\n",
       "  <tbody>\n",
       "    <tr>\n",
       "      <th>0</th>\n",
       "      <td>9.999782</td>\n",
       "      <td>0.0</td>\n",
       "      <td>9.999782</td>\n",
       "      <td>0.0</td>\n",
       "      <td>0</td>\n",
       "    </tr>\n",
       "    <tr>\n",
       "      <th>1</th>\n",
       "      <td>9.999782</td>\n",
       "      <td>0.0</td>\n",
       "      <td>9.999782</td>\n",
       "      <td>0.0</td>\n",
       "      <td>0</td>\n",
       "    </tr>\n",
       "    <tr>\n",
       "      <th>2</th>\n",
       "      <td>9.999782</td>\n",
       "      <td>0.0</td>\n",
       "      <td>9.999782</td>\n",
       "      <td>0.0</td>\n",
       "      <td>0</td>\n",
       "    </tr>\n",
       "    <tr>\n",
       "      <th>3</th>\n",
       "      <td>9.999782</td>\n",
       "      <td>0.0</td>\n",
       "      <td>9.999782</td>\n",
       "      <td>0.0</td>\n",
       "      <td>0</td>\n",
       "    </tr>\n",
       "    <tr>\n",
       "      <th>4</th>\n",
       "      <td>9.999782</td>\n",
       "      <td>0.0</td>\n",
       "      <td>9.999782</td>\n",
       "      <td>0.0</td>\n",
       "      <td>0</td>\n",
       "    </tr>\n",
       "  </tbody>\n",
       "</table>\n",
       "</div>"
      ],
      "text/plain": [
       "   Resultant_noslip  laplace_noslip  Resultant Slip  Laplace Slip  Label\n",
       "0          9.999782             0.0        9.999782           0.0      0\n",
       "1          9.999782             0.0        9.999782           0.0      0\n",
       "2          9.999782             0.0        9.999782           0.0      0\n",
       "3          9.999782             0.0        9.999782           0.0      0\n",
       "4          9.999782             0.0        9.999782           0.0      0"
      ]
     },
     "execution_count": 32,
     "metadata": {},
     "output_type": "execute_result"
    }
   ],
   "source": [
    "DATA.head()"
   ]
  },
  {
   "cell_type": "markdown",
   "metadata": {},
   "source": [
    "# Taking two units at a time and labeling 209 through 211 as slip onset [210,210]- 2 calls"
   ]
  },
  {
   "cell_type": "code",
   "execution_count": 40,
   "metadata": {},
   "outputs": [],
   "source": [
    "INTERESTED_COL1 = DATA[\"Resultant Slip\"]\n",
    "INTERESTED_COL2 = DATA[\"Laplace Slip\"]\n",
    "LABEL = DATA[\"Label\"]\n",
    "\n",
    "for i in range(2,DATA.shape[0]):\n",
    "    if i == 210 or i == 211 :\n",
    "        datapoint = [INTERESTED_COL1[i-2],INTERESTED_COL1[i-1], INTERESTED_COL1[i], 1]\n",
    "    else:\n",
    "        datapoint = [INTERESTED_COL1[i-2],INTERESTED_COL1[i-1], INTERESTED_COL1[i], 0]\n",
    "    save_to_csv(\"prepared_dataset.csv\", datapoint, type_open='a')"
   ]
  }
 ],
 "metadata": {
  "kernelspec": {
   "display_name": "Python 3 (ipykernel)",
   "language": "python",
   "name": "python3"
  },
  "language_info": {
   "codemirror_mode": {
    "name": "ipython",
    "version": 3
   },
   "file_extension": ".py",
   "mimetype": "text/x-python",
   "name": "python",
   "nbconvert_exporter": "python",
   "pygments_lexer": "ipython3",
   "version": "3.7.11"
  }
 },
 "nbformat": 4,
 "nbformat_minor": 4
}
